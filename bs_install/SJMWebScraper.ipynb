{
 "cells": [
  {
   "cell_type": "code",
   "execution_count": 1,
   "id": "2f9c4567-8fa9-4056-86ea-ffc613ef0edf",
   "metadata": {},
   "outputs": [],
   "source": [
    "from bs4 import BeautifulSoup"
   ]
  },
  {
   "cell_type": "code",
   "execution_count": 2,
   "id": "7bcc725b-c79f-48af-ae10-da48d394fc72",
   "metadata": {},
   "outputs": [],
   "source": [
    "import requests"
   ]
  },
  {
   "cell_type": "code",
   "execution_count": 1,
   "id": "d449f4c7-ffd4-4596-a6d6-9ae5ff911855",
   "metadata": {},
   "outputs": [],
   "source": [
    "# URL of the website you want to scrape\n",
    "url = 'https://www.swindonmasjid.com'"
   ]
  },
  {
   "cell_type": "code",
   "execution_count": 4,
   "id": "c4319554-174d-40ed-951d-94aad0810099",
   "metadata": {},
   "outputs": [],
   "source": [
    "# Send a HTTP request to the specified URL and save the response from server\n",
    "page = requests.get(url)\n"
   ]
  },
  {
   "cell_type": "code",
   "execution_count": 5,
   "id": "263ee115-28b9-4918-b400-beba8c638007",
   "metadata": {},
   "outputs": [],
   "source": [
    "# Parse the response content with BeautifulSoup to work with HTML\n",
    "soup = BeautifulSoup(page.text, 'html.parser')"
   ]
  },
  {
   "cell_type": "code",
   "execution_count": 2,
   "id": "1b0b1cb8-5c04-43bc-8d09-676d455856a6",
   "metadata": {},
   "outputs": [
    {
     "ename": "NameError",
     "evalue": "name 'soup' is not defined",
     "output_type": "error",
     "traceback": [
      "\u001b[0;31m---------------------------------------------------------------------------\u001b[0m",
      "\u001b[0;31mNameError\u001b[0m                                 Traceback (most recent call last)",
      "Cell \u001b[0;32mIn[2], line 1\u001b[0m\n\u001b[0;32m----> 1\u001b[0m \u001b[43msoup\u001b[49m\u001b[38;5;241m.\u001b[39mfint_all(\u001b[38;5;124m'\u001b[39m\u001b[38;5;124mtable\u001b[39m\u001b[38;5;124m'\u001b[39m)\n",
      "\u001b[0;31mNameError\u001b[0m: name 'soup' is not defined"
     ]
    }
   ],
   "source": [
    "soup.fint_all('table')"
   ]
  },
  {
   "cell_type": "code",
   "execution_count": null,
   "id": "59c65ac2-8d1e-47a5-9409-a88af70752e7",
   "metadata": {},
   "outputs": [],
   "source": []
  }
 ],
 "metadata": {
  "kernelspec": {
   "display_name": "Python 3 (ipykernel)",
   "language": "python",
   "name": "python3"
  },
  "language_info": {
   "codemirror_mode": {
    "name": "ipython",
    "version": 3
   },
   "file_extension": ".py",
   "mimetype": "text/x-python",
   "name": "python",
   "nbconvert_exporter": "python",
   "pygments_lexer": "ipython3",
   "version": "3.12.3"
  }
 },
 "nbformat": 4,
 "nbformat_minor": 5
}
